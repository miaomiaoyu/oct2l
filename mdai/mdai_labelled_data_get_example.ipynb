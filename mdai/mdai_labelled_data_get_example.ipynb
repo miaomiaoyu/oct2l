{
 "cells": [
  {
   "cell_type": "code",
   "execution_count": 68,
   "metadata": {},
   "outputs": [],
   "source": [
    "import os\n",
    "import glob\n",
    "import mdai\n",
    "import numpy as np\n",
    "import pandas as pd\n",
    "import matplotlib.pyplot as plt\n",
    "\n",
    "from mdai_labelled_data_get import mdai_labelled_data_get, LabelledOCTImagesMDAI\n",
    "\n",
    "import warnings\n",
    "warnings.filterwarnings('ignore')"
   ]
  },
  {
   "cell_type": "markdown",
   "metadata": {},
   "source": [
    "# First try pulling data from md.AI\n",
    "\n",
    "Dec 09 2022: The latest code is kept in /scripts, this is just a demo.\n",
    "</br>\n",
    "\n",
    "Sign into md.AI Client"
   ]
  },
  {
   "cell_type": "code",
   "execution_count": 69,
   "metadata": {},
   "outputs": [
    {
     "name": "stdout",
     "output_type": "stream",
     "text": [
      "Successfully authenticated to stanford.md.ai.\n",
      "Using working directory for data.\n",
      "Preparing annotations export for project LzBgWbB3...                                                \n",
      "Using cached annotations data for project LzBgWbB3.\n",
      "No project created. Downloaded annotations only.\n"
     ]
    }
   ],
   "source": [
    "DOMAIN = \"stanford.md.ai\"\n",
    "PROJECT_ID = \"LzBgWbB3\"\n",
    "TOKEN = os.environ.get('MDAI_TOKEN')\n",
    "\n",
    "mdai_client = mdai.Client(domain=DOMAIN, access_token=TOKEN)\n",
    "\n",
    "# download the annotation data for a specific group (by label group id)\n",
    "label_group_id_drusen     = \"L_A1yzbN\"\n",
    "label_group_id_hlines     = \"L_R6vQZN\"\n",
    "\n",
    "p = mdai_client.project(\n",
    "    PROJECT_ID, \n",
    "    path='.', \n",
    "    annotations_only=True,\n",
    "    label_group_id=label_group_id_drusen)\n",
    "\n",
    "# assuming the latest json is the right json\n",
    "json_files = os.getcwd() + '/*.json'  \n",
    "latest_file = max(glob.glob(json_files), key=os.path.getctime)\n",
    "results = mdai.common_utils.json_to_dataframe(latest_file)\n",
    "annots = results['annotations'] # dataframe"
   ]
  },
  {
   "cell_type": "markdown",
   "metadata": {},
   "source": [
    "## Retrieves the labels from the project specified earlier\n",
    "\n",
    "- Stores meta data for each label in a csv_file.\n",
    "- Stores the binarized labelled OCT images in specified root_dir."
   ]
  },
  {
   "cell_type": "code",
   "execution_count": 70,
   "metadata": {},
   "outputs": [
    {
     "name": "stdout",
     "output_type": "stream",
     "text": [
      "A_gBJW8g did not have any vertices data.\n",
      "A_ge9Bog did not have any vertices data.\n",
      "A_L4qREg did not have any vertices data.\n",
      "Time elapsed: 7.9 seconds \n",
      "Bad files found: 3\n"
     ]
    }
   ],
   "source": [
    "csv_file = mdai_labelled_data_get(\n",
    "    annots,\n",
    "    root_dir='mdai_labelled_data_masks')"
   ]
  },
  {
   "cell_type": "markdown",
   "metadata": {},
   "source": [
    "### Create a Dataset that's somewhat compatible with PyTorch"
   ]
  },
  {
   "cell_type": "code",
   "execution_count": 73,
   "metadata": {},
   "outputs": [],
   "source": [
    "plt.ion()   # makes it interactive\n",
    "\n",
    "oct_sample = LabelledOCTImagesMDAI(\n",
    "    csv_file='mdai_labelled_data_meta.csv', \n",
    "    root_dir='mdai_labelled_data_masks')"
   ]
  },
  {
   "cell_type": "markdown",
   "metadata": {},
   "source": [
    "Visualize what the data looks like."
   ]
  },
  {
   "cell_type": "code",
   "execution_count": 74,
   "metadata": {},
   "outputs": [
    {
     "data": {
      "image/png": "[encoded data removed]",
      "text/plain": [
       "<Figure size 1600x400 with 4 Axes>"
      ]
     },
     "metadata": {},
     "output_type": "display_data"
    }
   ],
   "source": [
    "stride = 500\n",
    "n_plot = int(np.ceil(oct_sample.__len__()/stride))\n",
    "\n",
    "f, ax = plt.subplots(1, n_plot, figsize=(n_plot*4,4))\n",
    "n = 0\n",
    "for i in range(oct_sample.__len__()):\n",
    "    if (i%stride == 0):\n",
    "        ax[n].imshow(oct_sample[i]['image'], cmap='binary')\n",
    "        ax[n].set_title(oct_sample[i]['label'])\n",
    "        n += 1\n",
    "plt.show()"
   ]
  }
 ],
 "metadata": {
  "kernelspec": {
   "display_name": "Python 3.10.8 64-bit",
   "language": "python",
   "name": "python3"
  },
  "language_info": {
   "codemirror_mode": {
    "name": "ipython",
    "version": 3
   },
   "file_extension": ".py",
   "mimetype": "text/x-python",
   "name": "python",
   "nbconvert_exporter": "python",
   "pygments_lexer": "ipython3",
   "version": "3.10.8"
  },
  "orig_nbformat": 4,
  "vscode": {
   "interpreter": {
    "hash": "eda7e54fe21129b67f77862937907ee926f057597a3e2fa1e18ac955e40912b3"
   }
  }
 },
 "nbformat": 4,
 "nbformat_minor": 2
}
