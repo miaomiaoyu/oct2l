{
 "cells": [
  {
   "cell_type": "code",
   "execution_count": 1,
   "metadata": {},
   "outputs": [],
   "source": [
    "import os\n",
    "import sys\n",
    "import shutil\n",
    "import numpy as np\n",
    "import pandas as pd\n",
    "from workspace import paths_get, paths_join\n",
    "\n",
    "sys.path.insert(1, '../mdai/')\n",
    "\n",
    "import warnings\n",
    "warnings.filterwarnings('ignore')"
   ]
  },
  {
   "cell_type": "markdown",
   "metadata": {},
   "source": [
    "## Mapping filenames from dataset with the labels\n",
    "\n",
    "the id numbers on md.AI are different from the OCT id numbers - so we're matching them on the last two values of SOPInstanceUID"
   ]
  },
  {
   "cell_type": "code",
   "execution_count": 4,
   "metadata": {},
   "outputs": [
    {
     "data": {
      "text/html": [
       "<div>\n",
       "<style scoped>\n",
       "    .dataframe tbody tr th:only-of-type {\n",
       "        vertical-align: middle;\n",
       "    }\n",
       "\n",
       "    .dataframe tbody tr th {\n",
       "        vertical-align: top;\n",
       "    }\n",
       "\n",
       "    .dataframe thead th {\n",
       "        text-align: right;\n",
       "    }\n",
       "</style>\n",
       "<table border=\"1\" class=\"dataframe\">\n",
       "  <thead>\n",
       "    <tr style=\"text-align: right;\">\n",
       "      <th></th>\n",
       "      <th>id</th>\n",
       "      <th>StudyInstanceUID</th>\n",
       "      <th>SeriesInstanceUID</th>\n",
       "      <th>SOPInstanceUID</th>\n",
       "      <th>labelName</th>\n",
       "    </tr>\n",
       "  </thead>\n",
       "  <tbody>\n",
       "    <tr>\n",
       "      <th>0</th>\n",
       "      <td>A_Km5eJK</td>\n",
       "      <td>1.2.826.0.1.3680043.8.498.18322454431392330409...</td>\n",
       "      <td>1.2.826.0.1.3680043.8.498.26876949399425251869...</td>\n",
       "      <td>1.2.826.0.1.3680043.8.498.70189596488780155609...</td>\n",
       "      <td>Drusen</td>\n",
       "    </tr>\n",
       "    <tr>\n",
       "      <th>1</th>\n",
       "      <td>A_K0a9yV</td>\n",
       "      <td>1.2.826.0.1.3680043.8.498.18322454431392330409...</td>\n",
       "      <td>1.2.826.0.1.3680043.8.498.26876949399425251869...</td>\n",
       "      <td>1.2.826.0.1.3680043.8.498.70189596488780155609...</td>\n",
       "      <td>Drusen</td>\n",
       "    </tr>\n",
       "    <tr>\n",
       "      <th>2</th>\n",
       "      <td>A_VovNDK</td>\n",
       "      <td>1.2.826.0.1.3680043.8.498.18322454431392330409...</td>\n",
       "      <td>1.2.826.0.1.3680043.8.498.26876949399425251869...</td>\n",
       "      <td>1.2.826.0.1.3680043.8.498.70189596488780155609...</td>\n",
       "      <td>Drusen</td>\n",
       "    </tr>\n",
       "    <tr>\n",
       "      <th>3</th>\n",
       "      <td>A_gjq2PL</td>\n",
       "      <td>1.2.826.0.1.3680043.8.498.18322454431392330409...</td>\n",
       "      <td>1.2.826.0.1.3680043.8.498.26876949399425251869...</td>\n",
       "      <td>1.2.826.0.1.3680043.8.498.70189596488780155609...</td>\n",
       "      <td>Drusen</td>\n",
       "    </tr>\n",
       "    <tr>\n",
       "      <th>4</th>\n",
       "      <td>A_KAkM1L</td>\n",
       "      <td>1.2.826.0.1.3680043.8.498.18322454431392330409...</td>\n",
       "      <td>1.2.826.0.1.3680043.8.498.26876949399425251869...</td>\n",
       "      <td>1.2.826.0.1.3680043.8.498.70189596488780155609...</td>\n",
       "      <td>Drusen</td>\n",
       "    </tr>\n",
       "  </tbody>\n",
       "</table>\n",
       "</div>"
      ],
      "text/plain": [
       "         id                                   StudyInstanceUID  \\\n",
       "0  A_Km5eJK  1.2.826.0.1.3680043.8.498.18322454431392330409...   \n",
       "1  A_K0a9yV  1.2.826.0.1.3680043.8.498.18322454431392330409...   \n",
       "2  A_VovNDK  1.2.826.0.1.3680043.8.498.18322454431392330409...   \n",
       "3  A_gjq2PL  1.2.826.0.1.3680043.8.498.18322454431392330409...   \n",
       "4  A_KAkM1L  1.2.826.0.1.3680043.8.498.18322454431392330409...   \n",
       "\n",
       "                                   SeriesInstanceUID  \\\n",
       "0  1.2.826.0.1.3680043.8.498.26876949399425251869...   \n",
       "1  1.2.826.0.1.3680043.8.498.26876949399425251869...   \n",
       "2  1.2.826.0.1.3680043.8.498.26876949399425251869...   \n",
       "3  1.2.826.0.1.3680043.8.498.26876949399425251869...   \n",
       "4  1.2.826.0.1.3680043.8.498.26876949399425251869...   \n",
       "\n",
       "                                      SOPInstanceUID labelName  \n",
       "0  1.2.826.0.1.3680043.8.498.70189596488780155609...    Drusen  \n",
       "1  1.2.826.0.1.3680043.8.498.70189596488780155609...    Drusen  \n",
       "2  1.2.826.0.1.3680043.8.498.70189596488780155609...    Drusen  \n",
       "3  1.2.826.0.1.3680043.8.498.70189596488780155609...    Drusen  \n",
       "4  1.2.826.0.1.3680043.8.498.70189596488780155609...    Drusen  "
      ]
     },
     "metadata": {},
     "output_type": "display_data"
    }
   ],
   "source": [
    "meta_data = pd.read_csv(\"../mdai/mdai_labelled_data_meta.csv\")\n",
    "\n",
    "mdai_to_odd_dict = [\n",
    "    [1, 'ODD-245_OS', '74', '73'],\n",
    "    [2, 'ODD-123_OS', '10', '43'],\n",
    "    [3, 'ODD-227_OS', '87', '51'],\n",
    "    [5, 'ODD-123_OD', '37', '46'],\n",
    "    [6, 'ODD-227_OD', '03', '81'],\n",
    "    [7, 'ODD-231_OS', '52', '13'],\n",
    "]  # created manually\n",
    "\n",
    "mdai_to_odd_map = pd.DataFrame(\n",
    "    mdai_to_odd_dict, columns=['Exam_id', 'ODD_id', 'Series_id', 'SOP_id'])\n",
    "\n",
    "''' This is a mapper made from the last two Series/SOP values so that we know which segmentation maps onto which training data '''\n",
    "\n",
    "meta_data['SOP_id'] = meta_data['SOPInstanceUID'].apply(lambda x: x[-2:])\n",
    "meta_data = pd.merge(meta_data, mdai_to_odd_map, on='SOP_id', how='left')\n",
    "meta_data['Slice_ODD_id'] = meta_data['frameNumber'].astype(str) + '_' + meta_data['ODD_id']\n",
    "\n",
    "''' Only some OCT B Scans were labelled, so we match not just the ODD-id but the slice numbers too. '''\n",
    "\n",
    "display(meta_data.iloc[:5,:5].head()) \n",
    "\n",
    "meta_data.to_csv('../data/mdai-odd/id_map.csv', index=False)"
   ]
  },
  {
   "cell_type": "markdown",
   "metadata": {},
   "source": [
    "## Store and rename image files.\n",
    "We're taking .png files that are in PNG_dir, and storing them in a subfolder 'images_with_masks'."
   ]
  },
  {
   "cell_type": "code",
   "execution_count": 7,
   "metadata": {},
   "outputs": [
    {
     "name": "stdout",
     "output_type": "stream",
     "text": [
      "bdots\n",
      "'~/images_with_masks' folder already exists, can proceed.\n"
     ]
    }
   ],
   "source": [
    "base_dir, data_dir, _, _, _ = paths_get('oct2l')\n",
    "png_dir = paths_join(data_dir, 'project-files-png')\n",
    "img_dir = 'images_with_masks'\n",
    "img_mdai_dir = 'images_with_masks_mdai'\n",
    "\n",
    "# -- make folder if it doesn't already exist\n",
    "\n",
    "if ~os.path.exists(paths_join(png_dir, img_dir)):\n",
    "    try:\n",
    "        os.mkdir(paths_join(png_dir, img_dir))\n",
    "    except FileExistsError:\n",
    "        print(\"'~/%s' folder already exists, can proceed.\" % img_dir)\n",
    "\n",
    "src_dir = png_dir\n",
    "dst_dir = paths_join(png_dir, img_dir)\n",
    "\n",
    "for slice_odd_id in meta_data.Slice_ODD_id.unique():\n",
    "    fnames = [fname for fname in os.listdir(png_dir) if slice_odd_id in fname]\n",
    "    src_fnames = [os.path.join(src_dir,fname) for fname in fnames]\n",
    "    dst_fnames = [os.path.join(dst_dir,fname) for fname in fnames]\n",
    "    src_to_dst = dict(zip(src_fnames, dst_fnames))\n",
    "    for src, dst in src_to_dst.items():\n",
    "        shutil.move(src, dst)   # move over."
   ]
  },
  {
   "cell_type": "markdown",
   "metadata": {},
   "source": [
    "These images are then renamed so that they match the masks/labels data from mdai 'images_with_masks_mdai'."
   ]
  },
  {
   "cell_type": "code",
   "execution_count": 8,
   "metadata": {},
   "outputs": [],
   "source": [
    "new_src_dir = paths_join(png_dir, img_dir)\n",
    "new_dst_dir = paths_join(png_dir, img_mdai_dir)  # mdai_ids\n",
    "\n",
    "for this_png in os.listdir(new_src_dir):\n",
    "    slice_odd_id = os.path.splitext(this_png)[0]\n",
    "    mdai_ids = meta_data[meta_data['Slice_ODD_id']==slice_odd_id]['id']\n",
    "    # there can be multiple mdai_ids to one slice_odd_id!\n",
    "    for mdai_id in mdai_ids:\n",
    "        src = paths_join(new_src_dir, this_png)\n",
    "        dst = paths_join(new_dst_dir, (mdai_id + '.png'))\n",
    "        shutil.copy(src, dst)   # impt: use shutil.copy! if not it'll move over after the first instance and the programme won't be able to find the img for subsequent labels."
   ]
  },
  {
   "cell_type": "markdown",
   "metadata": {},
   "source": [
    "Now, you should have:\n",
    "- /data_dir/png_dir/img_dir/      -> images with Slice_ODD_id\n",
    "- /data_dir/png_dir/img_mdai_dir/ -> images with mdai_id"
   ]
  }
 ],
 "metadata": {
  "kernelspec": {
   "display_name": "Python 3.10.8 64-bit",
   "language": "python",
   "name": "python3"
  },
  "language_info": {
   "codemirror_mode": {
    "name": "ipython",
    "version": 3
   },
   "file_extension": ".py",
   "mimetype": "text/x-python",
   "name": "python",
   "nbconvert_exporter": "python",
   "pygments_lexer": "ipython3",
   "version": "3.10.8 (main, Oct 21 2022, 22:22:30) [Clang 14.0.0 (clang-1400.0.29.202)]"
  },
  "orig_nbformat": 4,
  "vscode": {
   "interpreter": {
    "hash": "eda7e54fe21129b67f77862937907ee926f057597a3e2fa1e18ac955e40912b3"
   }
  }
 },
 "nbformat": 4,
 "nbformat_minor": 2
}
